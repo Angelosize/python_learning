{
 "cells": [
  {
   "cell_type": "code",
   "execution_count": 4,
   "metadata": {},
   "outputs": [],
   "source": [
    "import time\n",
    "import functools"
   ]
  },
  {
   "cell_type": "code",
   "execution_count": null,
   "metadata": {},
   "outputs": [],
   "source": [
    "def decorator(func):\n",
    "    def wrapper(*args,**kwargs):\n",
    "        start=time.time()\n",
    "        result=func(*args,**kwargs)\n",
    "        end=time.time()\n",
    "        print(f'{func.__name__} is running,running time:{end-start} second')\n",
    "        return result\n",
    "    return wrapper\n",
    "\n",
    "@decorator\n",
    "def square(a):\n",
    "    return a**2\n",
    "a=square(114514)\n",
    "print(a)"
   ]
  },
  {
   "cell_type": "markdown",
   "metadata": {},
   "source": [
    "square is running,running time:0.0 second\n",
    "13113456196"
   ]
  },
  {
   "cell_type": "code",
   "execution_count": null,
   "metadata": {},
   "outputs": [],
   "source": [
    "def is_longer_time_than(times):\n",
    "    def decorator(func):\n",
    "        def wrapper(*args,**kwargs):\n",
    "            start=time.time()\n",
    "            result=func(*args,**kwargs)\n",
    "            end=time.time()\n",
    "            print(f'{func.__name__} is running,running time:{end-start} second')\n",
    "            if end-start>times:\n",
    "                print(f\"{func.__name__}'s running time is longer than {times} second\")\n",
    "            else:\n",
    "                print(f\"{func.__name__}'s running time is shorter than {times} second\")\n",
    "            return result\n",
    "        return wrapper\n",
    "    return decorator\n",
    "\n",
    "@is_longer_time_than(5)\n",
    "def sleep10s():\n",
    "    time.sleep(10)\n",
    "sleep10s()\n",
    "print(sleep10s.__name__)"
   ]
  },
  {
   "cell_type": "markdown",
   "metadata": {},
   "source": [
    "sleep10s is running,running time:10.001755237579346 second\n",
    "sleep10s's running time is longer than 5 second\n",
    "wrapper"
   ]
  },
  {
   "cell_type": "code",
   "execution_count": null,
   "metadata": {},
   "outputs": [],
   "source": [
    "def is_longer_time_than(times):\n",
    "    def decorator(func):\n",
    "        @functools.wraps(func)\n",
    "        def wrapper(*args,**kwargs):\n",
    "            start=time.time()\n",
    "            result=func(*args,**kwargs)\n",
    "            end=time.time()\n",
    "            print(f'{func.__name__} is running,running time:{end-start} second')\n",
    "            if end-start>times:\n",
    "                print(f\"{func.__name__}'s running time is longer than {times} second\")\n",
    "            else:\n",
    "                print(f\"{func.__name__}'s running time is shorter than {times} second\")\n",
    "            return result\n",
    "        return wrapper\n",
    "    return decorator\n",
    "\n",
    "@is_longer_time_than(5)\n",
    "def sleep(a):\n",
    "    time.sleep(a)\n",
    "sleep(3)\n",
    "print(sleep.__name__)"
   ]
  },
  {
   "cell_type": "markdown",
   "metadata": {},
   "source": [
    "sleep is running,running time:3.0028226375579834 second\n",
    "sleep's running time is shorter than 5 second\n",
    "sleep"
   ]
  },
  {
   "cell_type": "code",
   "execution_count": 13,
   "metadata": {},
   "outputs": [
    {
     "name": "stdout",
     "output_type": "stream",
     "text": [
      "decorator is running,running time:0.0 second\n",
      "wrapper is running,running time:0.0 second\n",
      "wrapper is running,running time:0.0 second\n",
      "wrapper is running,running time:0.0 second\n",
      "square is running,running time:0.0 second\n",
      "13113456196\n"
     ]
    }
   ],
   "source": [
    "def decorator(func):\n",
    "    def wrapper(*args,**kwargs):\n",
    "        start=time.time()\n",
    "        result=func(*args,**kwargs)\n",
    "        end=time.time()\n",
    "        print(f'{func.__name__} is running,running time:{end-start} second')\n",
    "        return result\n",
    "    return wrapper\n",
    "\n",
    "decorator=decorator(decorator(decorator(decorator(decorator))))\n",
    "@decorator\n",
    "def square(a):\n",
    "    return a**2\n",
    "a=square(114514)\n",
    "print(a)"
   ]
  },
  {
   "cell_type": "code",
   "execution_count": 16,
   "metadata": {},
   "outputs": [
    {
     "name": "stdout",
     "output_type": "stream",
     "text": [
      "----------\n",
      "----------\n",
      "----------\n",
      "----------\n",
      "----------\n",
      "----------\n",
      "----------\n",
      "----------\n",
      "----------\n",
      "----------\n",
      "13113456196\n"
     ]
    }
   ],
   "source": [
    "def decorator(func):\n",
    "    def wrapper(*args,**kwargs):\n",
    "        print('-'*10)\n",
    "        result=func(*args,**kwargs)\n",
    "        \n",
    "        \n",
    "        return result\n",
    "    print('-'*10)\n",
    "    \n",
    "    return wrapper\n",
    "\n",
    "decorator=decorator(decorator(decorator(decorator(decorator))))\n",
    "@decorator\n",
    "def square(a):\n",
    "    return a**2\n",
    "a=square(114514)\n",
    "print(a)"
   ]
  }
 ],
 "metadata": {
  "kernelspec": {
   "display_name": "manim",
   "language": "python",
   "name": "python3"
  },
  "language_info": {
   "codemirror_mode": {
    "name": "ipython",
    "version": 3
   },
   "file_extension": ".py",
   "mimetype": "text/x-python",
   "name": "python",
   "nbconvert_exporter": "python",
   "pygments_lexer": "ipython3",
   "version": "3.12.2"
  }
 },
 "nbformat": 4,
 "nbformat_minor": 2
}
